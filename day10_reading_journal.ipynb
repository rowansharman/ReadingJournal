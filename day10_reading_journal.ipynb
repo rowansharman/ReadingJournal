{
 "cells": [
  {
   "cell_type": "markdown",
   "metadata": {},
   "source": [
    "# Day 10 Reading Journal\n",
    "\n",
    "This journal includes several required exercises, but it is meant to encourage active reading more generally.  You should use the journal to take detailed notes, catalog questions, and explore the content from Think Python deeply.\n",
    "\n",
    "Reading: Review Think Python Chapters 15-17\n",
    "\n",
    "**Due: Thursday, February 23 at 12 noon**\n",
    "\n"
   ]
  },
  {
   "cell_type": "markdown",
   "metadata": {},
   "source": [
    "## [Chapter 15](http://www.greenteapress.com/thinkpython2/html/thinkpython2016.html), [Chapter 16](http://www.greenteapress.com/thinkpython2/html/thinkpython2017.html), [Chapter 17](http://www.greenteapress.com/thinkpython2/html/thinkpython2018.html)\n",
    "\n",
    "\n",
    "By the end of chapter 17, we have all the tools we need to create our own user-defined types known as classes. In this reading journal, we're asking you to review and solidify your understanding of this material so we can build on it for the rest of the course. \n",
    "\n",
    "If you didn't get a chance to fully complete the Day 9 reading journal, you may want to do so now."
   ]
  },
  {
   "cell_type": "markdown",
   "metadata": {
    "problem": "Terminology"
   },
   "source": [
    "### Terminology\n",
    "\n",
    "You should be familiar with the following list of terms and concepts. If any of them are unclear to you, re-read, ask, write a definition in your own words, and try an example if appropriate.\n",
    "\n",
    " - class\n",
    " - object\n",
    " - instance\n",
    " - attribute\n",
    " - method\n",
    " - shallow vs deep copying\n",
    " - pure functions vs modifiers\n",
    " - initializing object instances\n",
    " "
   ]
  },
  {
   "cell_type": "markdown",
   "metadata": {
    "is_question": true,
    "problem": "Exercise 1"
   },
   "source": [
    "### Exercise\n",
    "\n",
    "We're going to take the first steps toward writing a calendar application. To keep things simple, we'll restrict ourselves to a single day for now. Write an `Event` class with the following attributes:\n",
    "\n",
    " - `name`  : Title for the `Event`\n",
    " - `start` : `Time` object representing the start time for the `Event`\n",
    " - `end`   : `Time` object representing the end time for the `Event`\n",
    "\n",
    "You can also augment your `Event` class with additional attributes, such as location and attendees.\n",
    "\n",
    "Write `__init__` and `__str__` methods for your `Event` class."
   ]
  },
  {
   "cell_type": "code",
   "execution_count": 69,
   "metadata": {
    "collapsed": false,
    "solution": "Exercise 1"
   },
   "outputs": [
    {
     "name": "stdout",
     "output_type": "stream",
     "text": [
      "Agenda for Rowan:\n",
      "\n",
      "   SoftDes:\n",
      "        This event ocurrs on 2017-02-23 at 01:30 and lasts for 1:40\n",
      "        The event will take place at: AC 326\n",
      "        The event includes participants: Amon, Oliver, NINJAs\n",
      "\n",
      "   Fun stuff:\n",
      "        This event ocurrs on 2017-02-23 at 02:00 and lasts for 1:30\n",
      "\n",
      "   Cool stuff:\n",
      "        This event ocurrs on 2017-02-23 at 23:30 and lasts for 3:30\n",
      "        The event includes participants: Friends\n",
      "\n",
      "***This agenda has one or more conflicts***\n"
     ]
    }
   ],
   "source": [
    "import datetime\n",
    "\n",
    "class Event:\n",
    "    '''keeps track of a calendar event\n",
    "    Attributes: String name, datetime start, datetime end, String location, String participants\n",
    "    '''\n",
    "    def __init__(self, name, start, end, loc=None, participants=None):\n",
    "        self.name = name\n",
    "        self.start = start\n",
    "        self.end = end\n",
    "        self.loc = loc\n",
    "        self.participants = participants\n",
    "        \n",
    "    def __str__(self):\n",
    "        string = '''{}:\n",
    "        This event ocurrs on {} at {} and lasts for {}'''.format(self.name, self.start.date(), str(self.start.time())[:-3], str(self.duration())[:-3])\n",
    "        if(self.loc != None):\n",
    "            string += '''\n",
    "        The event will take place at: {}'''.format(self.loc)\n",
    "        if(self.participants != None):\n",
    "            string += '''\n",
    "        The event includes participants: {}'''.format(self.participants)\n",
    "            \n",
    "        return string\n",
    "        \n",
    "    def duration(self):\n",
    "        return (self.end - self.start)\n",
    "    \n",
    "class Agenda:\n",
    "    '''keeps track of multiple events on a calendar\n",
    "    attributes: name, list of events'''\n",
    "    \n",
    "    def __init__(self, name, events=None):\n",
    "        self.name = name\n",
    "        if(events == None):\n",
    "            events = []\n",
    "        self.events = events\n",
    "        \n",
    "    def __str__(self):\n",
    "        self.sortEvents()\n",
    "        string = 'Agenda for {}:'.format(self.name)\n",
    "        for event in self.events:\n",
    "            string += ('\\n\\n   ' + str(event))\n",
    "        if(self.hasConflicts()):\n",
    "            string += '\\n\\n***This agenda has one or more conflicts***'\n",
    "        else:\n",
    "            string += '\\n\\nThis agenda has no conflicts'\n",
    "        return string\n",
    "        \n",
    "#     def printAgenda(self):\n",
    "#         self.sortEvents()\n",
    "#         print('Agenda for {}:'.format(self.name))\n",
    "#         for event in self.events:\n",
    "#             print(event)\n",
    "#         if(self.hasConflicts()):\n",
    "#             print('***This agenda has one or more conflicts***')\n",
    "#         else:\n",
    "#             print('This agenda has no conflicts')\n",
    "\n",
    "            \n",
    "    def addEvents(self, newEvents):\n",
    "        self.events.extend(newEvents)\n",
    "        \n",
    "    def sortEvents(self):\n",
    "        for i in range(len(self.events)-1):\n",
    "            for j in range(len(self.events)-i-1):\n",
    "                if (self.events[j].start - self.events[j+1].start) > datetime.timedelta(0):\n",
    "                    swap = self.events[j]\n",
    "                    self.events[j] = self.events[j+1]\n",
    "                    self.events[j+1] = swap\n",
    "    \n",
    "    def hasConflicts(self):\n",
    "        self.sortEvents()\n",
    "        for i in range(len(self.events)-1):\n",
    "            if (self.events[i+1].start - self.events[i].end) < datetime.timedelta(0):\n",
    "                return True\n",
    "        return False\n",
    "    \n",
    "start1 = datetime.datetime(2017,2,23,1,30)\n",
    "end1 = datetime.datetime(2017,2,23,3,10)\n",
    "classTomorrow = Event('SoftDes', start1, end1, 'AC 326', 'Amon, Oliver, NINJAs')\n",
    "\n",
    "start2 = datetime.datetime(2017,2,23,2,0)\n",
    "end2 = datetime.datetime(2017,2,23,3,30)\n",
    "distraction1 = Event('Fun stuff', start2, end2)\n",
    "\n",
    "start3 = datetime.datetime(2017,2,23,23,30)\n",
    "end3 = datetime.datetime(2017,2,24,3,0)\n",
    "distraction2 = Event('Cool stuff', start3, end3, None, 'Friends')\n",
    "\n",
    "mySchedule = Agenda('Rowan', [distraction1])\n",
    "mySchedule.addEvents([classTomorrow, distraction2])\n",
    "\n",
    "print(mySchedule)\n",
    "\n",
    "# mySchedule.printAgenda() #It seems better to use the __str__ method for this\n",
    "\n",
    "\n",
    "\n",
    "        "
   ]
  },
  {
   "cell_type": "markdown",
   "metadata": {
    "is_question": true,
    "problem": "Exercise 2"
   },
   "source": [
    "### Exercise\n",
    "\n",
    "Write a `duration` method that returns the duration of the `Event` in minutes."
   ]
  },
  {
   "cell_type": "code",
   "execution_count": 61,
   "metadata": {
    "collapsed": true,
    "solution": "Exercise 2"
   },
   "outputs": [],
   "source": [
    "#see first cell"
   ]
  },
  {
   "cell_type": "markdown",
   "metadata": {
    "is_question": true,
    "problem": "Exercise 3"
   },
   "source": [
    "### Exercise\n",
    "\n",
    "Write an `Agenda` class that contains several `Event`s for the day.\n",
    "\n",
    "**Quick check: ** How should you store `Event`s within your `Agenda` class?\n"
   ]
  },
  {
   "cell_type": "markdown",
   "metadata": {},
   "source": [
    "In a list"
   ]
  },
  {
   "cell_type": "markdown",
   "metadata": {},
   "source": [
    " "
   ]
  },
  {
   "cell_type": "markdown",
   "metadata": {},
   "source": [
    "Your `Agenda` class should include a `print_agenda` method that prints out your schedule for the day, in order.\n",
    "\n",
    "**Optional:** Include a `is_feasible` method that returns `True` if your schedule has no time conflicts. You may want to write additional helper methods for the `Event` class to make this easier."
   ]
  },
  {
   "cell_type": "code",
   "execution_count": 62,
   "metadata": {
    "collapsed": true,
    "solution": "Exercise 3"
   },
   "outputs": [],
   "source": [
    "#see first cell"
   ]
  },
  {
   "cell_type": "markdown",
   "metadata": {
    "is_question": true,
    "problem": "Exercise 4"
   },
   "source": [
    "### Going Beyond (optional)\n",
    "\n",
    "Some ideas for taking your application further:\n",
    " - Add people and/or places to the mix to create a scheduling assistant\n",
    " - Extend support for day-of-week or full date. A word of warning: dealing with dates and times in real applications is difficult due to the huge number of special cases (Perfect example: this reading journal is due on Leap Day). Consider using something like the Python [datetime](https://docs.python.org/3/library/datetime.html) module.\n",
    " - Use pickle or some other persistence strategy to save and load your `Agenda`."
   ]
  },
  {
   "cell_type": "code",
   "execution_count": 63,
   "metadata": {
    "collapsed": true,
    "solution": "Exercise 4"
   },
   "outputs": [],
   "source": [
    "#see first cell"
   ]
  },
  {
   "cell_type": "markdown",
   "metadata": {
    "poll_response": true,
    "solution": "Time spent"
   },
   "source": [
    " "
   ]
  },
  {
   "cell_type": "markdown",
   "metadata": {
    "is_question": true,
    "problem": "Feedback"
   },
   "source": [
    "## Reading Journal feedback\n",
    "\n",
    "[Please complete this short survey](https://docs.google.com/forms/d/e/1FAIpQLScQekhUrf6YYjpfQiAAbavLIA-IJklv_PX1BWbGgxj7JPolmw/viewform?c=0&w=1)\n",
    "\n",
    "If you have any comments on this Reading Journal, feel free to leave them in the survey linked above. This could include suggestions to improve the exercises, topics you'd like to see covered in class next time, or other feedback.\n",
    "\n",
    "If you have Python questions or run into problems while completing the reading, you should post them to Piazza instead so you can get a quick response before your journal is submitted."
   ]
  },
  {
   "cell_type": "markdown",
   "metadata": {
    "feedback_response": true,
    "solution": "Feedback"
   },
   "source": [
    " "
   ]
  }
 ],
 "metadata": {
  "kernelspec": {
   "display_name": "Python 3",
   "language": "python",
   "name": "python3"
  },
  "language_info": {
   "codemirror_mode": {
    "name": "ipython",
    "version": 3
   },
   "file_extension": ".py",
   "mimetype": "text/x-python",
   "name": "python",
   "nbconvert_exporter": "python",
   "pygments_lexer": "ipython3",
   "version": "3.5.2"
  }
 },
 "nbformat": 4,
 "nbformat_minor": 0
}
