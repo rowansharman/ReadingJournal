{
 "cells": [
  {
   "cell_type": "markdown",
   "metadata": {},
   "source": [
    "# Day 9 Reading Journal\n",
    "\n",
    "This journal includes several required exercises, but it is meant to encourage active reading more generally.  You should use the journal to take detailed notes, catalog questions, and explore the content from Think Python deeply.\n",
    "\n",
    "Reading: Think Python Chapter 16, 17\n",
    "\n",
    "**Due: Wednesday, February 22 at 12 noon**\n",
    "\n"
   ]
  },
  {
   "cell_type": "markdown",
   "metadata": {},
   "source": [
    "## [Chapter 16](http://www.greenteapress.com/thinkpython2/html/thinkpython2017.html)\n"
   ]
  },
  {
   "cell_type": "markdown",
   "metadata": {
    "is_question": true,
    "problem": "Exercise 16.2"
   },
   "source": [
    "### Chapter 16.1\n",
    "\n",
    "Write a boolean function called `is_after` that takes two `Time` objects, `t1` and `t2`, and returns `True` if `t1` follows `t2` chronologically and `False` otherwise. Challenge: don’t use an `if` statement. "
   ]
  },
  {
   "cell_type": "code",
   "execution_count": 7,
   "metadata": {
    "collapsed": false,
    "solution": "Exercise 16.2"
   },
   "outputs": [
    {
     "data": {
      "text/plain": [
       "True"
      ]
     },
     "execution_count": 7,
     "metadata": {},
     "output_type": "execute_result"
    }
   ],
   "source": [
    "class Time:\n",
    "    '''Represents the time of day\n",
    "    Attributes: hour, minute, second\n",
    "    '''\n",
    "    \n",
    "t1 = Time()\n",
    "t1.hour = 11\n",
    "t1.minute = 59\n",
    "t1.second = 30\n",
    "\n",
    "t2 = Time()\n",
    "t2.hour = 1\n",
    "t2.minute = 23\n",
    "t2.second = 5\n",
    "\n",
    "\n",
    "def isAfter(time1, time2):\n",
    "    return timeToDec(t1) > timeToDec(t2)\n",
    "    \n",
    "def timeToDec(time):\n",
    "    return time.hour + time.minute/60 + time.second/3600\n",
    "\n",
    "isAfter(t1, t2)"
   ]
  },
  {
   "cell_type": "markdown",
   "metadata": {},
   "source": [
    "## [Chapter 17](http://www.greenteapress.com/thinkpython2/html/thinkpython2018.html)\n",
    "\n",
    "In chapter 17 we finally have the tools to really put user-defined classes to work! In the exercises for this reading journal, we'll go back and add methods to your `Point` class from Chapter 15 to make it a lot easier to use."
   ]
  },
  {
   "cell_type": "markdown",
   "metadata": {
    "is_question": true,
    "problem": "Exercise 17.2"
   },
   "source": [
    "### Chapter 17.5\n",
    "\n",
    "Write an init method for the `Point` class that takes `x` and `y` as optional parameters and assigns them to the corresponding attributes. "
   ]
  },
  {
   "cell_type": "code",
   "execution_count": 8,
   "metadata": {
    "collapsed": false,
    "solution": "Exercise 17.2"
   },
   "outputs": [
    {
     "name": "stdout",
     "output_type": "stream",
     "text": [
      "3 4\n"
     ]
    }
   ],
   "source": [
    "class Point:\n",
    "    '''keeps track of the x and y coordinates of a point on a plane\n",
    "    Attributes: x, y\n",
    "    '''\n",
    "    \n",
    "    def __init__(self, x=0, y=0):\n",
    "        self.x = x\n",
    "        self.y = y\n",
    "        \n",
    "p1 = Point(3,4)\n",
    "\n",
    "print(p1.x, p1.y)\n",
    "        "
   ]
  },
  {
   "cell_type": "markdown",
   "metadata": {
    "is_question": true,
    "problem": "Exercise 17.3"
   },
   "source": [
    "### Chapter 17.6 \n",
    "\n",
    "Write a str method for the `Point` class. Create a `Point` object and print it."
   ]
  },
  {
   "cell_type": "code",
   "execution_count": 10,
   "metadata": {
    "collapsed": false,
    "solution": "Exercise 17.3"
   },
   "outputs": [
    {
     "name": "stdout",
     "output_type": "stream",
     "text": [
      "03,04\n"
     ]
    }
   ],
   "source": [
    "class Point:\n",
    "    '''keeps track of the x and y coordinates of a point on a plane\n",
    "    Attributes: x, y\n",
    "    '''\n",
    "    \n",
    "    def __init__(self, x=0, y=0):\n",
    "        self.x = x\n",
    "        self.y = y\n",
    "        \n",
    "    def __str__(self):\n",
    "        return '%.2d,%.2d' %(self.x, self.y)\n",
    "        \n",
    "p1 = Point(3,4)\n",
    "\n",
    "print(p1)"
   ]
  },
  {
   "cell_type": "markdown",
   "metadata": {
    "is_question": true,
    "problem": "Exercise 17.4"
   },
   "source": [
    "### Chapter 17.7  \n",
    "\n",
    "Write an add method for the `Point` class. Optional: implement operator overloading so that you can use the '+' operator."
   ]
  },
  {
   "cell_type": "code",
   "execution_count": 12,
   "metadata": {
    "collapsed": false,
    "solution": "Exercise 17.4"
   },
   "outputs": [
    {
     "name": "stdout",
     "output_type": "stream",
     "text": [
      "08,11\n"
     ]
    }
   ],
   "source": [
    "class Point:\n",
    "    '''keeps track of the x and y coordinates of a point on a plane\n",
    "    Attributes: x, y\n",
    "    '''\n",
    "    \n",
    "    def __init__(self, x=0, y=0):\n",
    "        self.x = x\n",
    "        self.y = y\n",
    "        \n",
    "    def __str__(self):\n",
    "        return '%.2d,%.2d' %(self.x, self.y)\n",
    "    \n",
    "    def __add__(self, other):\n",
    "        newX = self.x + other.x\n",
    "        newY = self.y + other.y\n",
    "        return Point(newX, newY)\n",
    "        \n",
    "p1 = Point(3,4)\n",
    "p2 = Point(5,7)\n",
    "\n",
    "pSum = p1+p2\n",
    "print(pSum)"
   ]
  },
  {
   "cell_type": "markdown",
   "metadata": {
    "is_question": true,
    "problem": "Exercise 17.7"
   },
   "source": [
    "### Exercise 17.2\n",
    "\n",
    "This exercise is a cautionary tale about one of the most common, and difficult to find, errors in Python. Write a definition for a class named `Kangaroo` with the following methods:\n",
    "\n",
    " 1. An `__init__` method that initializes an attribute named `pouch_contents` to an empty list.\n",
    " 2. A method named `put_in_pouch` that takes an object of any type and adds it to `pouch_contents`.\n",
    " 3. A `__str__` method that returns a string representation of the `Kangaroo` object and the contents of the pouch.\n",
    "\n",
    "Test your code by creating two `Kangaroo` objects, assigning them to variables named `kanga` and `roo`, and then adding `roo` to the contents of `kanga`’s pouch.\n",
    "\n",
    "Download http://greenteapress.com/thinkpython2/code/BadKangaroo.py. It contains a solution to the previous problem with one big, nasty bug. Find and fix the bug.\n",
    "\n",
    "If you get stuck, you can download http://greenteapress.com/thinkpython2/code/GoodKangaroo.py, which explains the problem and demonstrates a solution. "
   ]
  },
  {
   "cell_type": "code",
   "execution_count": 33,
   "metadata": {
    "collapsed": false,
    "solution": "Exercise 17.7"
   },
   "outputs": [
    {
     "name": "stdout",
     "output_type": "stream",
     "text": [
      "1, 5, q, 04,02, 3.1415, hello world, \n",
      "beginning of roo, [1, 1, 2, 3, 5, 8, 13], end of roo, \n",
      "1, 5, q, 04,02, 3.1415, hello world, beginning of roo, [1, 1, 2, 3, 5, 8, 13], end of roo, , \n",
      "beginning of roo, [1, 1, 2, 3, 5, 8, 13], end of roo, \n",
      "-  -\n"
     ]
    }
   ],
   "source": [
    "class Kangaroo:\n",
    "    '''keeps track of items in a list\n",
    "    Attributes: contents\n",
    "    '''\n",
    "    def __init__(self, initial=None):\n",
    "        if initial == None:\n",
    "            initial = []\n",
    "        self.contents = initial\n",
    "        \n",
    "    def __str__(self):\n",
    "        pouchContents = ''\n",
    "        for item in self.contents:\n",
    "            pouchContents += (str(item) + ', ')\n",
    "        return pouchContents\n",
    "        \n",
    "    def __add__(self, other):\n",
    "        self.contents.extend(other.contents)\n",
    "    \n",
    "    def addToPouch(self, newStuff):\n",
    "        self.contents.append(newStuff)\n",
    "        \n",
    "        \n",
    "p = Point(4,2)\n",
    "        \n",
    "kanga = Kangaroo([1,5,'q', p, 3.1415])\n",
    "roo = Kangaroo()\n",
    "roo.addToPouch('beginning of roo')\n",
    "kanga.addToPouch('hello world')\n",
    "roo.addToPouch([1,1,2,3,5,8,13])\n",
    "roo.addToPouch('end of roo')\n",
    "print(kanga)\n",
    "print(roo)\n",
    "kanga.addToPouch(roo)\n",
    "print(kanga)\n",
    "print(roo)\n",
    "kangaroo = Kangaroo()\n",
    "print('-',kangaroo,'-')"
   ]
  },
  {
   "cell_type": "markdown",
   "metadata": {
    "poll_response": true,
    "solution": "Time spent"
   },
   "source": [
    " "
   ]
  },
  {
   "cell_type": "markdown",
   "metadata": {
    "is_question": true,
    "problem": "Feedback"
   },
   "source": [
    "## Reading Journal feedback\n",
    "\n",
    "[Please complete this short survey](https://docs.google.com/forms/d/e/1FAIpQLScQekhUrf6YYjpfQiAAbavLIA-IJklv_PX1BWbGgxj7JPolmw/viewform?c=0&w=1)\n",
    "\n",
    "If you have any comments on this Reading Journal, feel free to leave them in the survey linked above. This could include suggestions to improve the exercises, topics you'd like to see covered in class next time, or other feedback.\n",
    "\n",
    "If you have Python questions or run into problems while completing the reading, you should post them to Piazza instead so you can get a quick response before your journal is submitted."
   ]
  },
  {
   "cell_type": "markdown",
   "metadata": {
    "feedback_response": true,
    "solution": "Feedback"
   },
   "source": [
    " "
   ]
  }
 ],
 "metadata": {
  "anaconda-cloud": {},
  "kernelspec": {
   "display_name": "Python 3",
   "language": "python",
   "name": "python3"
  },
  "language_info": {
   "codemirror_mode": {
    "name": "ipython",
    "version": 3
   },
   "file_extension": ".py",
   "mimetype": "text/x-python",
   "name": "python",
   "nbconvert_exporter": "python",
   "pygments_lexer": "ipython3",
   "version": "3.5.2"
  }
 },
 "nbformat": 4,
 "nbformat_minor": 0
}
